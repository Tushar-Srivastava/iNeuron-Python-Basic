{
 "cells": [
  {
   "cell_type": "markdown",
   "id": "mental-topic",
   "metadata": {},
   "source": [
    "## **Questions**\n",
    "### 1. What exactly is []?\n",
    "### 2. In a list of values stored in a variable called spam, how would you assign the value &#39;hello&#39; as the\n",
    "### third value? (Assume [2, 4, 6, 8, 10] are in spam.)\n",
    "### Let&#39;s pretend the spam includes the list [&#39;a&#39;, &#39;b&#39;, &#39;c&#39;, &#39;d&#39;] for the next three queries.\n",
    "### 3. What is the value of spam[int(int(&#39;3&#39; * 2) / 11)]?\n",
    "### 4. What is the value of spam[-1]?\n",
    "### 5. What is the value of spam[:2]?\n",
    "### Let&#39;s pretend bacon has the list [3.14, &#39;cat,&#39; 11, &#39;cat,&#39; True] for the next three questions.\n",
    "### 6. What is the value of bacon.index(&#39;cat&#39;)?\n",
    "### 7. How does bacon.append(99) change the look of the list value in bacon?\n",
    "### 8. How does bacon.remove(&#39;cat&#39;) change the look of the list in bacon?\n",
    "### 9. What are the list concatenation and list replication operators?\n",
    "### 10. What is difference between the list methods append() and insert()?\n",
    "### 11. What are the two methods for removing items from a list?\n",
    "### 12. Describe how list values and string values are identical.\n",
    "### 13. What&#39;s the difference between tuples and lists?\n",
    "### 14. How do you type a tuple value that only contains the integer 42?\n",
    "### 15. How do you get a list value&#39;s tuple form? How do you get a tuple value&#39;s list form?\n",
    "### 16. Variables that &quot;contain&quot; list values are not necessarily lists themselves. Instead, what do they\n",
    "### contain?\n",
    "### 17. How do you distinguish between copy.copy() and copy.deepcopy()?"
   ]
  },
  {
   "cell_type": "markdown",
   "id": "weekly-profit",
   "metadata": {},
   "source": [
    "## Answers\n",
    "### 1. [] is a blank list\n",
    "### 2. spam.insert(2, \"hello\")\n",
    "### 3. d\n",
    "### 4. d\n",
    "### 5. [a, b]\n",
    "### 6. 1\n",
    "### 7. bacon = [3.14, 'cat,' 11, 'cat,' True, 99]. append adds value at the last\n",
    "### 8. bacon = [3.14, 11, 'cat,' True, 99]. remove deletes the first appearance\n",
    "### 9. List concatenation is '+', while List replication is '*'\n"
   ]
  },
  {
   "cell_type": "markdown",
   "id": "insured-pressure",
   "metadata": {},
   "source": [
    "### 10. append adds value at the last position while insert adds element at the specified index\n",
    "### 11. del and remove()\n",
    "### 12. List and strings can be sliced, both are iterable objects\n",
    "### 13. List is mutable while tuples are not\n",
    "### 14. (42,)\n",
    "### 15. tuple(list[]), list(tuple()])\n",
    "### 16. They contain references to a list value\n",
    "### 17. copy.copy() does shallow copy, while copy.deepcopy() does deep copy"
   ]
  }
 ],
 "metadata": {
  "kernelspec": {
   "display_name": "Python 3",
   "language": "python",
   "name": "python3"
  },
  "language_info": {
   "codemirror_mode": {
    "name": "ipython",
    "version": 3
   },
   "file_extension": ".py",
   "mimetype": "text/x-python",
   "name": "python",
   "nbconvert_exporter": "python",
   "pygments_lexer": "ipython3",
   "version": "3.8.5"
  }
 },
 "nbformat": 4,
 "nbformat_minor": 5
}
