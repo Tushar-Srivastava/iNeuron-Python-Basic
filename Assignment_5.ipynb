{
 "cells": [
  {
   "cell_type": "markdown",
   "id": "massive-montgomery",
   "metadata": {},
   "source": [
    "## Questions\n",
    "### 1. What does an empty dictionary&#39;s code look like?\n",
    "### 2. What is the value of a dictionary value with the key &#39;foo&#39; and the value 42?\n",
    "### 3. What is the most significant distinction between a dictionary and a list?\n",
    "### 4. What happens if you try to access spam[&#39;foo&#39;] if spam is {&#39;bar&#39;: 100}?\n",
    "### 5. If a dictionary is stored in spam, what is the difference between the expressions &#39;cat&#39; in spam and\n",
    "###     &#39;cat&#39; in spam.keys()?\n",
    "### 6. If a dictionary is stored in spam, what is the difference between the expressions &#39;cat&#39; in spam and\n",
    "###     &#39;cat&#39; in spam.values()?\n",
    "### 7. What is a shortcut for the following code?\n",
    "###     if &#39;color&#39; not in spam:\n",
    "###     spam[&#39;color&#39;] = &#39;black&#39;\n",
    "### 8. How do you &quot;pretty print&quot; dictionary values using which module and function?"
   ]
  },
  {
   "cell_type": "markdown",
   "id": "disciplinary-hearts",
   "metadata": {},
   "source": [
    "## Answers\n",
    "### 1. a = {}\n",
    "### 2. 42\n",
    "### 3. The items in a dictionary are accessed by key value, but in lost they are accessed by their index\n",
    "### 4. KeyError\n",
    "### 5. 'cat' in spam and 'cat' in spam.keys() will return the same output, whether 'cat' is there in spam and 'cat' in keys()\n",
    "### 6. 'cat' in spam and 'cat' in spam.values() will not return the same output, because former will check in keys and latter will check whether there is cat value in any of the keys\n",
    "### 7. \n",
    "### 8. pprint and pprint"
   ]
  },
  {
   "cell_type": "code",
   "execution_count": 10,
   "id": "center-greene",
   "metadata": {},
   "outputs": [],
   "source": [
    "spam = {'cat': 4}"
   ]
  },
  {
   "cell_type": "code",
   "execution_count": 11,
   "id": "explicit-missouri",
   "metadata": {},
   "outputs": [
    {
     "data": {
      "text/plain": [
       "False"
      ]
     },
     "execution_count": 11,
     "metadata": {},
     "output_type": "execute_result"
    }
   ],
   "source": [
    "'cat' in spam.values()"
   ]
  },
  {
   "cell_type": "code",
   "execution_count": null,
   "id": "competitive-screw",
   "metadata": {},
   "outputs": [],
   "source": []
  }
 ],
 "metadata": {
  "kernelspec": {
   "display_name": "Python 3",
   "language": "python",
   "name": "python3"
  },
  "language_info": {
   "codemirror_mode": {
    "name": "ipython",
    "version": 3
   },
   "file_extension": ".py",
   "mimetype": "text/x-python",
   "name": "python",
   "nbconvert_exporter": "python",
   "pygments_lexer": "ipython3",
   "version": "3.8.5"
  }
 },
 "nbformat": 4,
 "nbformat_minor": 5
}
