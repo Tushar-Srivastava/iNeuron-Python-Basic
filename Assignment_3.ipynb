{
 "cells": [
  {
   "cell_type": "markdown",
   "id": "suffering-jerusalem",
   "metadata": {},
   "source": [
    "## Assignment 3\n",
    "###  1. Why are functions advantageous to have in your programs?\n",
    "###  2. When does the code in a function run: when it&#39;s specified or when it&#39;s called?\n",
    "###  3. What statement creates a function?\n",
    "###  4. What is the difference between a function and a function call?\n",
    "###  5. How many global scopes are there in a Python program? How many local scopes?\n",
    "###  6. What happens to variables in a local scope when the function call returns?\n",
    "###  7. What is the concept of a return value? Is it possible to have a return value in an expression?\n",
    "###  8. If a function does not have a return statement, what is the return value of a call to that function?\n",
    "###  9. How do you make a function variable refer to the global variable?\n",
    "###  10. What is the data type of None?\n",
    "###  11. What does the sentence import areallyourpetsnamederic do?\n",
    "###  12. If you had a bacon() feature in a spam module, what would you call it after importing spam?\n",
    "###  13. What can you do to save a programme from crashing if it encounters an error?\n",
    "###  14. What is the purpose of the try clause? What is the purpose of the except clause?"
   ]
  },
  {
   "cell_type": "markdown",
   "id": "indirect-pathology",
   "metadata": {},
   "source": [
    "### Answers"
   ]
  },
  {
   "cell_type": "markdown",
   "id": "reflected-check",
   "metadata": {},
   "source": [
    "### 1) Function makes a program\n",
    "###     Modular, easy to read, it can be accessed from outside the program, shortens the code"
   ]
  },
  {
   "cell_type": "markdown",
   "id": "educational-carolina",
   "metadata": {},
   "source": [
    "### 2) When it is called"
   ]
  },
  {
   "cell_type": "markdown",
   "id": "downtown-increase",
   "metadata": {},
   "source": [
    "### 3) def"
   ]
  },
  {
   "cell_type": "markdown",
   "id": "assisted-matter",
   "metadata": {},
   "source": [
    "### 4) Function contains the program which may or may not return value\n",
    "### Function call invokes the function and make it work"
   ]
  },
  {
   "cell_type": "markdown",
   "id": "potential-wholesale",
   "metadata": {},
   "source": [
    "### 5) 1 global scope, and local scope is created when a function is called"
   ]
  },
  {
   "cell_type": "markdown",
   "id": "social-stevens",
   "metadata": {},
   "source": [
    "### 6) The local variable does not exist after the return"
   ]
  },
  {
   "cell_type": "markdown",
   "id": "collectible-blackjack",
   "metadata": {},
   "source": [
    "### 7) Return value gives the output of the function. Yes it can be used in an expression"
   ]
  },
  {
   "cell_type": "markdown",
   "id": "therapeutic-threat",
   "metadata": {},
   "source": [
    "### 8) The function does not return anything, and is of None type"
   ]
  },
  {
   "cell_type": "markdown",
   "id": "sharp-administrator",
   "metadata": {},
   "source": [
    "### 9) By creating  a variable outside the function, which can be accessed by all the functions"
   ]
  },
  {
   "cell_type": "markdown",
   "id": "acceptable-ratio",
   "metadata": {},
   "source": [
    "### 10) None type"
   ]
  },
  {
   "cell_type": "markdown",
   "id": "employed-feelings",
   "metadata": {},
   "source": [
    "### 11) import areallyourpetsnamederic, will import the the module"
   ]
  },
  {
   "cell_type": "markdown",
   "id": "celtic-georgia",
   "metadata": {},
   "source": [
    "### 12) spam.bacon()"
   ]
  },
  {
   "cell_type": "markdown",
   "id": "acknowledged-shipping",
   "metadata": {},
   "source": [
    "### 13) use try and except method"
   ]
  },
  {
   "cell_type": "markdown",
   "id": "invisible-change",
   "metadata": {},
   "source": [
    "### 14) try checks the possibility of the code whether it can cause an error, except stores the code which will cause an error"
   ]
  }
 ],
 "metadata": {
  "kernelspec": {
   "display_name": "Python 3",
   "language": "python",
   "name": "python3"
  },
  "language_info": {
   "codemirror_mode": {
    "name": "ipython",
    "version": 3
   },
   "file_extension": ".py",
   "mimetype": "text/x-python",
   "name": "python",
   "nbconvert_exporter": "python",
   "pygments_lexer": "ipython3",
   "version": "3.8.5"
  }
 },
 "nbformat": 4,
 "nbformat_minor": 5
}
