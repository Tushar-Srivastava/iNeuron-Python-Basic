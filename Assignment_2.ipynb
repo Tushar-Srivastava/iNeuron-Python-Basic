{
 "cells": [
  {
   "cell_type": "markdown",
   "id": "serious-springer",
   "metadata": {},
   "source": [
    "### Q1\n",
    "#### Boolean data types are True and False\n",
    "#### They are written as True and False"
   ]
  },
  {
   "cell_type": "markdown",
   "id": "ordinary-horizon",
   "metadata": {},
   "source": [
    "### Q2\n",
    "#### and, or, & not"
   ]
  },
  {
   "cell_type": "markdown",
   "id": "consolidated-least",
   "metadata": {},
   "source": [
    "### Q3\n",
    "#### and:- \n",
    "####       False  False  False\n",
    "####       False  True   False\n",
    "####       True   False  False\n",
    "####       True   True   True\n",
    "#### or:-  \n",
    "####       False  False  False\n",
    "####       False  True   True\n",
    "####       True   False  True\n",
    "####       True   True   True\n",
    "#### not:- \n",
    "####       not    False  True\n",
    "####       not    True   False"
   ]
  },
  {
   "cell_type": "markdown",
   "id": "chemical-winning",
   "metadata": {},
   "source": [
    "### Q4\n",
    "#### (5 > 4) and (3 == 5) is False\n",
    "#### not (5 > 4) is False\n",
    "#### (5 > 4) or (3 == 5) is True\n",
    "#### not ((5 > 4) or (3 == 5)) is False\n",
    "#### (True and True) and (True == False) is False\n",
    "#### (not False) or (not True) is True"
   ]
  },
  {
   "cell_type": "markdown",
   "id": "balanced-criterion",
   "metadata": {},
   "source": [
    "### Q5\n",
    "#### Comparision operators are\n",
    "#### ==, !=, <, >, <=, >="
   ]
  },
  {
   "cell_type": "markdown",
   "id": "heard-regular",
   "metadata": {},
   "source": [
    "### Q6\n",
    "#### Assignment operator(=):- It is used to store a value in the variable\n",
    "#### Ex. a = 7, b = (\"dfhgfhf\"). a, and b are store a value with the help of assignment operator\n",
    "#### Equal to operator(==):- It is used to do comparison between two entities\n",
    "#### a == b, This will return False because 7 is not equal to dfhgfhf"
   ]
  },
  {
   "cell_type": "markdown",
   "id": "infinite-health",
   "metadata": {},
   "source": [
    "### Q7\n",
    "#### spam = 0\n",
    "#### if spam == 10: 1st block\n",
    "#### print('eggs')\n",
    "#### if spam > 5:   2nd block\n",
    "#### print('bacon')\n",
    "#### else:          3rd block\n",
    "#### print('ham')\n",
    "#### print('spam')\n",
    "#### print('spam')"
   ]
  },
  {
   "cell_type": "markdown",
   "id": "dedicated-interpretation",
   "metadata": {},
   "source": [
    "### Q8\n",
    "#### if spam == 1:\n",
    "#### print('Hello')\n",
    "#### elif spam == 2:\n",
    "#### print('Howdy')\n",
    "#### else:\n",
    "#### print('Greetings!')"
   ]
  },
  {
   "cell_type": "markdown",
   "id": "broken-commitment",
   "metadata": {},
   "source": [
    "### Q9\n",
    "#### In Jupyter notebook you can restart kernel and clear all outputs"
   ]
  },
  {
   "cell_type": "markdown",
   "id": "induced-start",
   "metadata": {},
   "source": [
    "### Q10\n",
    "#### break will take the control out of the loop\n",
    "#### continue will take the control at he start of the loop"
   ]
  },
  {
   "cell_type": "markdown",
   "id": "remarkable-radical",
   "metadata": {},
   "source": [
    "### Q11\n",
    "#### They are all the same\n",
    "#### range(a, b, n)\n",
    "#### a is the initial number\n",
    "#### b is the final number (excluding this one)\n",
    "#### n is the step size"
   ]
  },
  {
   "cell_type": "markdown",
   "id": "accompanied-livestock",
   "metadata": {},
   "source": [
    "### Q12\n",
    "#### for loop:-\n",
    "#### for i in range(1, 11):\n",
    "#### print(i)\n",
    "#### while loop:-\n",
    "#### i = 1\n",
    "#### while i <= 10:\n",
    "#### print(i)\n",
    "#### i = i + 1"
   ]
  },
  {
   "cell_type": "markdown",
   "id": "persistent-delicious",
   "metadata": {},
   "source": [
    "### Q13\n",
    "#### spam.bacon()"
   ]
  }
 ],
 "metadata": {
  "kernelspec": {
   "display_name": "Python 3",
   "language": "python",
   "name": "python3"
  },
  "language_info": {
   "codemirror_mode": {
    "name": "ipython",
    "version": 3
   },
   "file_extension": ".py",
   "mimetype": "text/x-python",
   "name": "python",
   "nbconvert_exporter": "python",
   "pygments_lexer": "ipython3",
   "version": "3.8.5"
  }
 },
 "nbformat": 4,
 "nbformat_minor": 5
}
