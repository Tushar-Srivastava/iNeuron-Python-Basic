{
 "cells": [
  {
   "cell_type": "markdown",
   "id": "juvenile-psychiatry",
   "metadata": {},
   "source": [
    "## Questions\n",
    "### 1. What are escape characters, and how do you use them?\n",
    "### 2. What do the escape characters n and t stand for?\n",
    "### 3. What is the way to include backslash characters in a string?\n",
    "### 4. The string &quot;Howl&#39;s Moving Castle&quot; is a correct value. Why isn&#39;t the single quote character in the word Howl&#39;s not escaped a problem?\n",
    "### 5. How do you write a string of newlines if you don&#39;t want to use the n character?\n",
    "### 6. What are the values of the given expressions?\n",
    "### &#39;Hello, world!&#39;[1]\n",
    "### &#39;Hello, world!&#39;[0:5]\n",
    "### &#39;Hello, world!&#39;[:5]\n",
    "### &#39;Hello, world!&#39;[3:]\n",
    "\n",
    "### 7. What are the values of the following expressions?\n",
    "### &#39;Hello&#39;.upper()\n",
    "### &#39;Hello&#39;.upper().isupper()\n",
    "### &#39;Hello&#39;.upper().lower()\n",
    "### 8. What are the values of the following expressions?\n",
    "### &#39;Remember, remember, the fifth of July.&#39;.split()\n",
    "### &#39;-&#39;.join(&#39;There can only one.&#39;.split())\n",
    "### 9. What are the methods for right-justifying, left-justifying, and centering a string?\n",
    "### 10. What is the best way to remove whitespace characters from the start or end?"
   ]
  },
  {
   "cell_type": "markdown",
   "id": "noticed-navigation",
   "metadata": {},
   "source": [
    "## Answers\n",
    "### 1.To insert characters that are illegal in a string, use an escape character. An escape character is a backslash \\ followed by the character you want to insert\n",
    "### 2. \\n is new line and \\t is tab\n",
    "### 3. The \\\\ escape character will include a backslash character\n",
    "### 4. Because the string has been enclosed inside double quotes(\" \")\n",
    "### 5. By writing each line in a print statement in a different line\n",
    "### 6. \n",
    "### 'e'\n",
    "### 'Hello\n",
    "### ' Hello'\n",
    "### 'lo, world!'\n",
    "### 7. \n",
    "### HELLO\n",
    "### True\n",
    "### hello\n",
    "### 8. \n",
    "### 'Remember,', 'remember,', 'the', 'fifth', 'of', 'July.'\n",
    "### There-can-only-one.\n",
    "### 9. The rjust(), ljust(), and center() string methods\n",
    "### 10. For start lstrip(), and end rstrip()\n"
   ]
  }
 ],
 "metadata": {
  "kernelspec": {
   "display_name": "Python 3",
   "language": "python",
   "name": "python3"
  },
  "language_info": {
   "codemirror_mode": {
    "name": "ipython",
    "version": 3
   },
   "file_extension": ".py",
   "mimetype": "text/x-python",
   "name": "python",
   "nbconvert_exporter": "python",
   "pygments_lexer": "ipython3",
   "version": "3.8.5"
  }
 },
 "nbformat": 4,
 "nbformat_minor": 5
}
