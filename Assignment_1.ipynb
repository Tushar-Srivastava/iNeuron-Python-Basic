{
 "cells": [
  {
   "cell_type": "markdown",
   "id": "inside-event",
   "metadata": {},
   "source": [
    "### Q1\n",
    "#### Values are 'hello', -87.8, 6\n",
    "#### Expression are *, -, /, +"
   ]
  },
  {
   "cell_type": "markdown",
   "id": "jewish-withdrawal",
   "metadata": {},
   "source": [
    "### Q2\n",
    "#### String:- A string is a collection of alphabets, numbers, special characters inside a single quote or double quote\n",
    "#### Ex: \"Hello\", '1234 d@t@ i$ key', \"k\"\n",
    "#### Variable:- A variable is something which stores data values\n",
    "#### Ex: a = 5, var = \"ball\"\n",
    "#### Here a and var is a variable which stores value 5 and ball respectively"
   ]
  },
  {
   "cell_type": "markdown",
   "id": "constant-invitation",
   "metadata": {},
   "source": [
    "### Q3\n",
    "#### Integer(int): It is a whole number without fractions\n",
    "#### Ex. 5,9999,-64748 are integers\n",
    "#### Float(float): These are real numbers with decimal points\n",
    "#### Ex. -5.2, 345.678, 44.00\n",
    "#### Boolean(bool): It stores only two value i.e., True or False"
   ]
  },
  {
   "cell_type": "markdown",
   "id": "declared-disability",
   "metadata": {},
   "source": [
    "### Q4\n",
    "#### Expressions is a combination of values, variables, operators. Expressions returns value\n",
    "#### If you type an expression, the interpreter evaluates it and displays the result."
   ]
  },
  {
   "cell_type": "code",
   "execution_count": 7,
   "id": "incorrect-germany",
   "metadata": {},
   "outputs": [],
   "source": [
    "a = \"qwerty\" # qwerty is an expression"
   ]
  },
  {
   "cell_type": "markdown",
   "id": "operating-upset",
   "metadata": {},
   "source": [
    "#### a + b -7 is an expression"
   ]
  },
  {
   "cell_type": "markdown",
   "id": "olympic-nancy",
   "metadata": {},
   "source": [
    "### Q5"
   ]
  },
  {
   "cell_type": "code",
   "execution_count": 8,
   "id": "centered-shooting",
   "metadata": {},
   "outputs": [
    {
     "data": {
      "text/plain": [
       "15"
      ]
     },
     "execution_count": 8,
     "metadata": {},
     "output_type": "execute_result"
    }
   ],
   "source": [
    "spam = 10 # It is a statement\n",
    "spam + 5 # It is an expression"
   ]
  },
  {
   "cell_type": "code",
   "execution_count": 9,
   "id": "false-madness",
   "metadata": {},
   "outputs": [
    {
     "name": "stdout",
     "output_type": "stream",
     "text": [
      "10\n"
     ]
    }
   ],
   "source": [
    "print(spam) # It is also a statement"
   ]
  },
  {
   "cell_type": "markdown",
   "id": "modular-natural",
   "metadata": {},
   "source": [
    "### Q6\n",
    "#### bacon = 22, because we are adding to bacon but we are not storing the result in bacon"
   ]
  },
  {
   "cell_type": "markdown",
   "id": "demonstrated-still",
   "metadata": {},
   "source": [
    "### Q7\n",
    "#### 'spam' + 'spamspam' = spamspamspam\n",
    "#### 'spam' * 3 = spamspamspam"
   ]
  },
  {
   "cell_type": "markdown",
   "id": "amateur-superior",
   "metadata": {},
   "source": [
    "### Q8\n",
    "#### Variable cannot start with a number or special characterand it cannot be a special keyword\n",
    "#### Eg. Address, hello1234, _bye are valid\n",
    "#### Eg. 1age, hello 1234, @bye are not valid"
   ]
  },
  {
   "cell_type": "markdown",
   "id": "committed-picture",
   "metadata": {},
   "source": [
    "### Q9\n",
    "#### In python we don't need any specific function for any specific datatype. It will automatically detect which data type it is"
   ]
  },
  {
   "cell_type": "markdown",
   "id": "pleased-wednesday",
   "metadata": {},
   "source": [
    "### Q10\n",
    "#### 'I have eaten'+99+' burritos. ' will create an error because in order to print a string you cannot have something outside the quote unless its a variable.\n",
    "#### Secondly 99 is an integer and the rest is string. You cannot concatenate an integer with a string\n",
    "#### 'I have eaten 99 burritos' is a valid string\n",
    "#### or 'I have eaten' + str(99) + 'burritos' is also a valid string. In this statement we are typecasting int to str\n"
   ]
  }
 ],
 "metadata": {
  "kernelspec": {
   "display_name": "Python 3",
   "language": "python",
   "name": "python3"
  },
  "language_info": {
   "codemirror_mode": {
    "name": "ipython",
    "version": 3
   },
   "file_extension": ".py",
   "mimetype": "text/x-python",
   "name": "python",
   "nbconvert_exporter": "python",
   "pygments_lexer": "ipython3",
   "version": "3.8.5"
  }
 },
 "nbformat": 4,
 "nbformat_minor": 5
}
